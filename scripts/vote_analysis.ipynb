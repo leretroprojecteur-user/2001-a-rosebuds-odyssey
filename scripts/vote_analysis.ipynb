{
 "cells": [
  {
   "cell_type": "code",
   "execution_count": 208,
   "metadata": {},
   "outputs": [],
   "source": [
    "critic_score = new_df[new_df['critic']==1].groupby(['movie', \n",
    "                                      'year', \n",
    "                                      'director', \n",
    "                                      'movie_link'])['voter'].count().reset_index()\n",
    "critic_score.rename(columns={'voter':'critic_score'}, inplace=True)"
   ]
  },
  {
   "cell_type": "code",
   "execution_count": 209,
   "metadata": {},
   "outputs": [],
   "source": [
    "director_score = new_df[new_df['critic']==0].groupby(['movie', \n",
    "                                      'year', \n",
    "                                      'director', \n",
    "                                      'movie_link'])['voter'].count().reset_index()\n",
    "director_score.rename(columns={'voter':'director_score'}, inplace=True)"
   ]
  },
  {
   "cell_type": "code",
   "execution_count": 210,
   "metadata": {},
   "outputs": [],
   "source": [
    "french_voters_score = new_df[new_df['voter_country']=='France'].groupby(['movie', \n",
    "                                                                         'year', \n",
    "                                                                         'director', \n",
    "                                                                         'movie_link'])['voter'].count().reset_index()\n",
    "french_voters_score.rename(columns={'voter':'french_voters_score'}, inplace=True)"
   ]
  },
  {
   "cell_type": "code",
   "execution_count": null,
   "metadata": {},
   "outputs": [],
   "source": []
  }
 ],
 "metadata": {
  "kernelspec": {
   "display_name": "Python 3",
   "language": "python",
   "name": "python3"
  },
  "language_info": {
   "codemirror_mode": {
    "name": "ipython",
    "version": 3
   },
   "file_extension": ".py",
   "mimetype": "text/x-python",
   "name": "python",
   "nbconvert_exporter": "python",
   "pygments_lexer": "ipython3",
   "version": "3.8.2"
  }
 },
 "nbformat": 4,
 "nbformat_minor": 4
}
